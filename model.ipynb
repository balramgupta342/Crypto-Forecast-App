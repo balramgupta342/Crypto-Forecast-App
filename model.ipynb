{
  "cells": [
    {
      "cell_type": "markdown",
      "id": "5686c90c",
      "metadata": {},
      "source": [
        "Importing Libraries"
      ]
    },
    {
      "cell_type": "code",
      "execution_count": 1,
      "id": "bfd29795",
      "metadata": {
        "id": "bfd29795"
      },
      "outputs": [],
      "source": [
        "import math\n",
        "from pandas_datareader import data as pdr\n",
        "import numpy as np\n",
        "from sklearn.preprocessing import StandardScaler\n",
        "from keras.models import Sequential\n",
        "from keras.layers import Dense, LSTM\n",
        "import matplotlib.pyplot as plt\n",
        "import yfinance as yf\n",
        "from datetime import date, timedelta\n",
        "plt.style.use('fivethirtyeight')"
      ]
    },
    {
      "cell_type": "markdown",
      "id": "a9177e03",
      "metadata": {},
      "source": [
        "Importing Data"
      ]
    },
    {
      "cell_type": "code",
      "execution_count": 2,
      "id": "057ffa59",
      "metadata": {
        "id": "057ffa59"
      },
      "outputs": [],
      "source": [
        "yf.pdr_override()\n",
        "td = date.today()-timedelta(days = 2)"
      ]
    },
    {
      "cell_type": "code",
      "execution_count": 3,
      "id": "52808333",
      "metadata": {
        "colab": {
          "base_uri": "https://localhost:8080/"
        },
        "id": "52808333",
        "outputId": "873a0547-8940-48bd-9d50-8f0d8c27e85d"
      },
      "outputs": [
        {
          "name": "stdout",
          "output_type": "stream",
          "text": [
            "[*********************100%%**********************]  1 of 1 completed\n"
          ]
        }
      ],
      "source": [
        "df = pdr.get_data_yahoo('BTC-USD', start='2010-1-1', end = td)"
      ]
    },
    {
      "cell_type": "markdown",
      "id": "475cc8cc",
      "metadata": {
        "id": "475cc8cc"
      },
      "source": []
    },
    {
      "cell_type": "code",
      "execution_count": 4,
      "id": "b298f3da",
      "metadata": {
        "colab": {
          "base_uri": "https://localhost:8080/",
          "height": 455
        },
        "id": "b298f3da",
        "outputId": "a37c9777-52f4-4d93-f6ab-83e63cdf58d0"
      },
      "outputs": [
        {
          "data": {
            "text/html": [
              "<div>\n",
              "<style scoped>\n",
              "    .dataframe tbody tr th:only-of-type {\n",
              "        vertical-align: middle;\n",
              "    }\n",
              "\n",
              "    .dataframe tbody tr th {\n",
              "        vertical-align: top;\n",
              "    }\n",
              "\n",
              "    .dataframe thead th {\n",
              "        text-align: right;\n",
              "    }\n",
              "</style>\n",
              "<table border=\"1\" class=\"dataframe\">\n",
              "  <thead>\n",
              "    <tr style=\"text-align: right;\">\n",
              "      <th></th>\n",
              "      <th>Open</th>\n",
              "      <th>High</th>\n",
              "      <th>Low</th>\n",
              "      <th>Close</th>\n",
              "      <th>Adj Close</th>\n",
              "      <th>Volume</th>\n",
              "    </tr>\n",
              "    <tr>\n",
              "      <th>Date</th>\n",
              "      <th></th>\n",
              "      <th></th>\n",
              "      <th></th>\n",
              "      <th></th>\n",
              "      <th></th>\n",
              "      <th></th>\n",
              "    </tr>\n",
              "  </thead>\n",
              "  <tbody>\n",
              "    <tr>\n",
              "      <th>2014-09-17</th>\n",
              "      <td>465.864014</td>\n",
              "      <td>468.174011</td>\n",
              "      <td>452.421997</td>\n",
              "      <td>457.334015</td>\n",
              "      <td>457.334015</td>\n",
              "      <td>21056800</td>\n",
              "    </tr>\n",
              "    <tr>\n",
              "      <th>2014-09-18</th>\n",
              "      <td>456.859985</td>\n",
              "      <td>456.859985</td>\n",
              "      <td>413.104004</td>\n",
              "      <td>424.440002</td>\n",
              "      <td>424.440002</td>\n",
              "      <td>34483200</td>\n",
              "    </tr>\n",
              "    <tr>\n",
              "      <th>2014-09-19</th>\n",
              "      <td>424.102997</td>\n",
              "      <td>427.834991</td>\n",
              "      <td>384.532013</td>\n",
              "      <td>394.795990</td>\n",
              "      <td>394.795990</td>\n",
              "      <td>37919700</td>\n",
              "    </tr>\n",
              "    <tr>\n",
              "      <th>2014-09-20</th>\n",
              "      <td>394.673004</td>\n",
              "      <td>423.295990</td>\n",
              "      <td>389.882996</td>\n",
              "      <td>408.903992</td>\n",
              "      <td>408.903992</td>\n",
              "      <td>36863600</td>\n",
              "    </tr>\n",
              "    <tr>\n",
              "      <th>2014-09-21</th>\n",
              "      <td>408.084991</td>\n",
              "      <td>412.425995</td>\n",
              "      <td>393.181000</td>\n",
              "      <td>398.821014</td>\n",
              "      <td>398.821014</td>\n",
              "      <td>26580100</td>\n",
              "    </tr>\n",
              "    <tr>\n",
              "      <th>...</th>\n",
              "      <td>...</td>\n",
              "      <td>...</td>\n",
              "      <td>...</td>\n",
              "      <td>...</td>\n",
              "      <td>...</td>\n",
              "      <td>...</td>\n",
              "    </tr>\n",
              "    <tr>\n",
              "      <th>2024-05-18</th>\n",
              "      <td>67066.210938</td>\n",
              "      <td>67387.328125</td>\n",
              "      <td>66663.500000</td>\n",
              "      <td>66940.804688</td>\n",
              "      <td>66940.804688</td>\n",
              "      <td>16712277406</td>\n",
              "    </tr>\n",
              "    <tr>\n",
              "      <th>2024-05-19</th>\n",
              "      <td>66937.929688</td>\n",
              "      <td>67694.296875</td>\n",
              "      <td>65937.179688</td>\n",
              "      <td>66278.367188</td>\n",
              "      <td>66278.367188</td>\n",
              "      <td>19249094538</td>\n",
              "    </tr>\n",
              "    <tr>\n",
              "      <th>2024-05-20</th>\n",
              "      <td>66278.742188</td>\n",
              "      <td>71483.562500</td>\n",
              "      <td>66086.171875</td>\n",
              "      <td>71448.195312</td>\n",
              "      <td>71448.195312</td>\n",
              "      <td>43850655717</td>\n",
              "    </tr>\n",
              "    <tr>\n",
              "      <th>2024-05-21</th>\n",
              "      <td>71443.062500</td>\n",
              "      <td>71946.460938</td>\n",
              "      <td>69191.125000</td>\n",
              "      <td>70136.531250</td>\n",
              "      <td>70136.531250</td>\n",
              "      <td>46932005990</td>\n",
              "    </tr>\n",
              "    <tr>\n",
              "      <th>2024-05-22</th>\n",
              "      <td>70135.320312</td>\n",
              "      <td>70623.695312</td>\n",
              "      <td>68977.695312</td>\n",
              "      <td>69122.335938</td>\n",
              "      <td>69122.335938</td>\n",
              "      <td>32802561717</td>\n",
              "    </tr>\n",
              "  </tbody>\n",
              "</table>\n",
              "<p>3536 rows × 6 columns</p>\n",
              "</div>"
            ],
            "text/plain": [
              "                    Open          High           Low         Close  \\\n",
              "Date                                                                 \n",
              "2014-09-17    465.864014    468.174011    452.421997    457.334015   \n",
              "2014-09-18    456.859985    456.859985    413.104004    424.440002   \n",
              "2014-09-19    424.102997    427.834991    384.532013    394.795990   \n",
              "2014-09-20    394.673004    423.295990    389.882996    408.903992   \n",
              "2014-09-21    408.084991    412.425995    393.181000    398.821014   \n",
              "...                  ...           ...           ...           ...   \n",
              "2024-05-18  67066.210938  67387.328125  66663.500000  66940.804688   \n",
              "2024-05-19  66937.929688  67694.296875  65937.179688  66278.367188   \n",
              "2024-05-20  66278.742188  71483.562500  66086.171875  71448.195312   \n",
              "2024-05-21  71443.062500  71946.460938  69191.125000  70136.531250   \n",
              "2024-05-22  70135.320312  70623.695312  68977.695312  69122.335938   \n",
              "\n",
              "               Adj Close       Volume  \n",
              "Date                                   \n",
              "2014-09-17    457.334015     21056800  \n",
              "2014-09-18    424.440002     34483200  \n",
              "2014-09-19    394.795990     37919700  \n",
              "2014-09-20    408.903992     36863600  \n",
              "2014-09-21    398.821014     26580100  \n",
              "...                  ...          ...  \n",
              "2024-05-18  66940.804688  16712277406  \n",
              "2024-05-19  66278.367188  19249094538  \n",
              "2024-05-20  71448.195312  43850655717  \n",
              "2024-05-21  70136.531250  46932005990  \n",
              "2024-05-22  69122.335938  32802561717  \n",
              "\n",
              "[3536 rows x 6 columns]"
            ]
          },
          "execution_count": 4,
          "metadata": {},
          "output_type": "execute_result"
        }
      ],
      "source": [
        "df"
      ]
    },
    {
      "cell_type": "code",
      "execution_count": 5,
      "id": "72518ef2",
      "metadata": {
        "colab": {
          "base_uri": "https://localhost:8080/"
        },
        "id": "72518ef2",
        "outputId": "5031c7f2-994e-4ac0-d4bd-e5d63fa24abc"
      },
      "outputs": [
        {
          "data": {
            "text/plain": [
              "(3536, 6)"
            ]
          },
          "execution_count": 5,
          "metadata": {},
          "output_type": "execute_result"
        }
      ],
      "source": [
        "#no of rows n col\n",
        "df.shape"
      ]
    },
    {
      "cell_type": "code",
      "execution_count": 6,
      "id": "cade1c14",
      "metadata": {},
      "outputs": [
        {
          "name": "stdout",
          "output_type": "stream",
          "text": [
            "<class 'pandas.core.frame.DataFrame'>\n",
            "DatetimeIndex: 3536 entries, 2014-09-17 to 2024-05-22\n",
            "Data columns (total 6 columns):\n",
            " #   Column     Non-Null Count  Dtype  \n",
            "---  ------     --------------  -----  \n",
            " 0   Open       3536 non-null   float64\n",
            " 1   High       3536 non-null   float64\n",
            " 2   Low        3536 non-null   float64\n",
            " 3   Close      3536 non-null   float64\n",
            " 4   Adj Close  3536 non-null   float64\n",
            " 5   Volume     3536 non-null   int64  \n",
            "dtypes: float64(5), int64(1)\n",
            "memory usage: 193.4 KB\n"
          ]
        }
      ],
      "source": [
        "df.info()"
      ]
    },
    {
      "cell_type": "code",
      "execution_count": 7,
      "id": "fa995406",
      "metadata": {},
      "outputs": [
        {
          "data": {
            "text/html": [
              "<div>\n",
              "<style scoped>\n",
              "    .dataframe tbody tr th:only-of-type {\n",
              "        vertical-align: middle;\n",
              "    }\n",
              "\n",
              "    .dataframe tbody tr th {\n",
              "        vertical-align: top;\n",
              "    }\n",
              "\n",
              "    .dataframe thead th {\n",
              "        text-align: right;\n",
              "    }\n",
              "</style>\n",
              "<table border=\"1\" class=\"dataframe\">\n",
              "  <thead>\n",
              "    <tr style=\"text-align: right;\">\n",
              "      <th></th>\n",
              "      <th>count</th>\n",
              "      <th>mean</th>\n",
              "      <th>std</th>\n",
              "      <th>min</th>\n",
              "      <th>25%</th>\n",
              "      <th>50%</th>\n",
              "      <th>75%</th>\n",
              "      <th>max</th>\n",
              "    </tr>\n",
              "  </thead>\n",
              "  <tbody>\n",
              "    <tr>\n",
              "      <th>Open</th>\n",
              "      <td>3536.0</td>\n",
              "      <td>1.631112e+04</td>\n",
              "      <td>1.810539e+04</td>\n",
              "      <td>1.768970e+02</td>\n",
              "      <td>1.035762e+03</td>\n",
              "      <td>8.757644e+03</td>\n",
              "      <td>2.713060e+04</td>\n",
              "      <td>7.307938e+04</td>\n",
              "    </tr>\n",
              "    <tr>\n",
              "      <th>High</th>\n",
              "      <td>3536.0</td>\n",
              "      <td>1.669144e+04</td>\n",
              "      <td>1.853610e+04</td>\n",
              "      <td>2.117310e+02</td>\n",
              "      <td>1.052200e+03</td>\n",
              "      <td>8.927101e+03</td>\n",
              "      <td>2.746842e+04</td>\n",
              "      <td>7.375007e+04</td>\n",
              "    </tr>\n",
              "    <tr>\n",
              "      <th>Low</th>\n",
              "      <td>3536.0</td>\n",
              "      <td>1.590596e+04</td>\n",
              "      <td>1.763371e+04</td>\n",
              "      <td>1.715100e+02</td>\n",
              "      <td>1.014922e+03</td>\n",
              "      <td>8.552497e+03</td>\n",
              "      <td>2.671360e+04</td>\n",
              "      <td>7.133409e+04</td>\n",
              "    </tr>\n",
              "    <tr>\n",
              "      <th>Close</th>\n",
              "      <td>3536.0</td>\n",
              "      <td>1.632930e+04</td>\n",
              "      <td>1.812285e+04</td>\n",
              "      <td>1.781030e+02</td>\n",
              "      <td>1.037798e+03</td>\n",
              "      <td>8.757109e+03</td>\n",
              "      <td>2.714483e+04</td>\n",
              "      <td>7.308350e+04</td>\n",
              "    </tr>\n",
              "    <tr>\n",
              "      <th>Adj Close</th>\n",
              "      <td>3536.0</td>\n",
              "      <td>1.632930e+04</td>\n",
              "      <td>1.812285e+04</td>\n",
              "      <td>1.781030e+02</td>\n",
              "      <td>1.037798e+03</td>\n",
              "      <td>8.757109e+03</td>\n",
              "      <td>2.714483e+04</td>\n",
              "      <td>7.308350e+04</td>\n",
              "    </tr>\n",
              "    <tr>\n",
              "      <th>Volume</th>\n",
              "      <td>3536.0</td>\n",
              "      <td>1.722278e+10</td>\n",
              "      <td>1.924747e+10</td>\n",
              "      <td>5.914570e+06</td>\n",
              "      <td>2.255415e+08</td>\n",
              "      <td>1.305335e+10</td>\n",
              "      <td>2.782260e+10</td>\n",
              "      <td>3.509679e+11</td>\n",
              "    </tr>\n",
              "  </tbody>\n",
              "</table>\n",
              "</div>"
            ],
            "text/plain": [
              "            count          mean           std           min           25%  \\\n",
              "Open       3536.0  1.631112e+04  1.810539e+04  1.768970e+02  1.035762e+03   \n",
              "High       3536.0  1.669144e+04  1.853610e+04  2.117310e+02  1.052200e+03   \n",
              "Low        3536.0  1.590596e+04  1.763371e+04  1.715100e+02  1.014922e+03   \n",
              "Close      3536.0  1.632930e+04  1.812285e+04  1.781030e+02  1.037798e+03   \n",
              "Adj Close  3536.0  1.632930e+04  1.812285e+04  1.781030e+02  1.037798e+03   \n",
              "Volume     3536.0  1.722278e+10  1.924747e+10  5.914570e+06  2.255415e+08   \n",
              "\n",
              "                    50%           75%           max  \n",
              "Open       8.757644e+03  2.713060e+04  7.307938e+04  \n",
              "High       8.927101e+03  2.746842e+04  7.375007e+04  \n",
              "Low        8.552497e+03  2.671360e+04  7.133409e+04  \n",
              "Close      8.757109e+03  2.714483e+04  7.308350e+04  \n",
              "Adj Close  8.757109e+03  2.714483e+04  7.308350e+04  \n",
              "Volume     1.305335e+10  2.782260e+10  3.509679e+11  "
            ]
          },
          "execution_count": 7,
          "metadata": {},
          "output_type": "execute_result"
        }
      ],
      "source": [
        "df.describe().T"
      ]
    },
    {
      "cell_type": "markdown",
      "id": "0f8406e6",
      "metadata": {},
      "source": [
        "Checking duplicate rows"
      ]
    },
    {
      "cell_type": "code",
      "execution_count": 8,
      "id": "d5613382",
      "metadata": {},
      "outputs": [
        {
          "data": {
            "text/plain": [
              "0"
            ]
          },
          "execution_count": 8,
          "metadata": {},
          "output_type": "execute_result"
        }
      ],
      "source": [
        "df.duplicated().sum()"
      ]
    },
    {
      "cell_type": "markdown",
      "id": "8040a704",
      "metadata": {},
      "source": [
        "Checking Missing values"
      ]
    },
    {
      "cell_type": "code",
      "execution_count": 9,
      "id": "3dda4f9d",
      "metadata": {},
      "outputs": [
        {
          "data": {
            "text/plain": [
              "Open         0\n",
              "High         0\n",
              "Low          0\n",
              "Close        0\n",
              "Adj Close    0\n",
              "Volume       0\n",
              "dtype: int64"
            ]
          },
          "execution_count": 9,
          "metadata": {},
          "output_type": "execute_result"
        }
      ],
      "source": [
        "df.isna().sum()"
      ]
    },
    {
      "cell_type": "markdown",
      "id": "d41c529c",
      "metadata": {},
      "source": [
        "Checking for categorical columns"
      ]
    },
    {
      "cell_type": "code",
      "execution_count": 10,
      "id": "c4c319ee",
      "metadata": {},
      "outputs": [
        {
          "data": {
            "text/plain": [
              "Open         float64\n",
              "High         float64\n",
              "Low          float64\n",
              "Close        float64\n",
              "Adj Close    float64\n",
              "Volume         int64\n",
              "dtype: object"
            ]
          },
          "execution_count": 10,
          "metadata": {},
          "output_type": "execute_result"
        }
      ],
      "source": [
        "df.dtypes"
      ]
    },
    {
      "cell_type": "markdown",
      "id": "5d92a35d",
      "metadata": {},
      "source": [
        "Exploratory Data Analysis"
      ]
    },
    {
      "cell_type": "markdown",
      "id": "31a69805",
      "metadata": {},
      "source": [
        "> Analysing close price"
      ]
    },
    {
      "cell_type": "code",
      "execution_count": 11,
      "id": "4ac438ee",
      "metadata": {
        "colab": {
          "base_uri": "https://localhost:8080/",
          "height": 212
        },
        "id": "4ac438ee",
        "outputId": "019fced1-7325-4fd8-cfe0-8aeeaee920f5"
      },
      "outputs": [
        {
          "data": {
            "image/png": "[encoded data removed]",
            "text/plain": [
              "<Figure size 1600x300 with 1 Axes>"
            ]
          },
          "metadata": {},
          "output_type": "display_data"
        }
      ],
      "source": [
        "plt.figure(figsize = (16,3))\n",
        "plt.title('Close Price History')\n",
        "plt.plot(df['Close'])\n",
        "plt.xlabel('Date')\n",
        "plt.ylabel('Close Price USD')\n",
        "plt.show()"
      ]
    },
    {
      "cell_type": "markdown",
      "id": "1715d7f3",
      "metadata": {},
      "source": [
        "> Analysis volume being traded each day"
      ]
    },
    {
      "cell_type": "code",
      "execution_count": 12,
      "id": "965f9d6a",
      "metadata": {},
      "outputs": [
        {
          "data": {
            "image/png": "[encoded data removed]",
            "text/plain": [
              "<Figure size 1000x700 with 1 Axes>"
            ]
          },
          "metadata": {},
          "output_type": "display_data"
        }
      ],
      "source": [
        "plt.figure(figsize = (10,7))\n",
        "plt.title('BTC')\n",
        "plt.plot(df['Volume'])\n",
        "plt.xlabel('Date')\n",
        "plt.ylabel('Volume traded per day')\n",
        "plt.show()"
      ]
    },
    {
      "cell_type": "markdown",
      "id": "cce526b3",
      "metadata": {},
      "source": [
        "> Monthly change in mean closing price"
      ]
    },
    {
      "cell_type": "code",
      "execution_count": 13,
      "id": "88ce5fdc",
      "metadata": {},
      "outputs": [
        {
          "data": {
            "image/png": "[encoded data removed]",
            "text/plain": [
              "<Figure size 2000x800 with 1 Axes>"
            ]
          },
          "metadata": {},
          "output_type": "display_data"
        }
      ],
      "source": [
        "plt.figure(figsize = (20,8))\n",
        "plt.subplot(2,2,1)\n",
        "df['Close'].resample('M').mean().plot()\n",
        "plt.show()"
      ]
    },
    {
      "cell_type": "markdown",
      "id": "f85e2808",
      "metadata": {},
      "source": [
        "Splitting into dependent(target) and independent(featured) varaibles"
      ]
    },
    {
      "cell_type": "code",
      "execution_count": 14,
      "id": "9d0e242a",
      "metadata": {
        "colab": {
          "base_uri": "https://localhost:8080/"
        },
        "id": "9d0e242a",
        "outputId": "69c15c2f-583f-474e-c496-8b6e174eec94"
      },
      "outputs": [
        {
          "data": {
            "text/plain": [
              "2829"
            ]
          },
          "execution_count": 14,
          "metadata": {},
          "output_type": "execute_result"
        }
      ],
      "source": [
        "# create a new dataframe with only the close column\n",
        "data = df.filter(['Close'])\n",
        "# convert the dataframe to a numpy array\n",
        "dataset = data.values\n",
        "#get the number of rows to train the LSTM model on\n",
        "training_data_len = math.ceil(len(dataset)*0.8)\n",
        "training_data_len"
      ]
    },
    {
      "cell_type": "markdown",
      "id": "618da283",
      "metadata": {},
      "source": [
        "Data Preprocessing"
      ]
    },
    {
      "cell_type": "code",
      "execution_count": 15,
      "id": "b88f24a3",
      "metadata": {
        "colab": {
          "base_uri": "https://localhost:8080/"
        },
        "id": "b88f24a3",
        "outputId": "3cdbf547-ce37-4351-8db9-79cd89ab6da3"
      },
      "outputs": [
        {
          "data": {
            "text/plain": [
              "array([[-0.87592246],\n",
              "       [-0.87773777],\n",
              "       [-0.87937373],\n",
              "       ...,\n",
              "       [ 3.0418338 ],\n",
              "       [ 2.9694473 ],\n",
              "       [ 2.91347713]])"
            ]
          },
          "execution_count": 15,
          "metadata": {},
          "output_type": "execute_result"
        }
      ],
      "source": [
        "#Scaling the data\n",
        "scaler = StandardScaler()\n",
        "scaled_data = scaler.fit_transform(dataset)\n",
        "scaled_data"
      ]
    },
    {
      "cell_type": "markdown",
      "id": "c690685c",
      "metadata": {},
      "source": [
        "Splitting Data into train data sets "
      ]
    },
    {
      "cell_type": "code",
      "execution_count": 16,
      "id": "fdcf321d",
      "metadata": {
        "colab": {
          "base_uri": "https://localhost:8080/"
        },
        "id": "fdcf321d",
        "outputId": "459307eb-1754-411a-b620-84fd9ae6a71d",
        "scrolled": true
      },
      "outputs": [
        {
          "name": "stdout",
          "output_type": "stream",
          "text": [
            "[array([-0.87592246, -0.87773777, -0.87937373, -0.87859515, -0.8791516 ,\n",
            "       -0.87896777, -0.87711135, -0.87780593, -0.8784478 , -0.87884233,\n",
            "       -0.87911303, -0.88034584, -0.88044043, -0.87980705, -0.87999077,\n",
            "       -0.88046223, -0.88132094, -0.88301219, -0.88347333, -0.88294525,\n",
            "       -0.88260817, -0.88168362, -0.88101664, -0.8812078 , -0.88116713,\n",
            "       -0.88027035, -0.87961556, -0.87903852, -0.879375  , -0.88004921,\n",
            "       -0.87998288, -0.87955882, -0.87966346, -0.88003326, -0.87983294,\n",
            "       -0.88001599, -0.88138137, -0.88138534, -0.88199648, -0.88158627,\n",
            "       -0.88168092, -0.88142546, -0.88264106, -0.88210498, -0.8824904 ,\n",
            "       -0.88318421, -0.88317632, -0.8830846 , -0.88292246, -0.88242611,\n",
            "       -0.88188506, -0.88226446, -0.88209488, -0.88111388, -0.88091189,\n",
            "       -0.88086934, -0.87778628, -0.87794224, -0.87920695, -0.88040368])]\n",
            "[-0.879755289197]\n",
            "\n",
            "[array([-0.87592246, -0.87773777, -0.87937373, -0.87859515, -0.8791516 ,\n",
            "       -0.87896777, -0.87711135, -0.87780593, -0.8784478 , -0.87884233,\n",
            "       -0.87911303, -0.88034584, -0.88044043, -0.87980705, -0.87999077,\n",
            "       -0.88046223, -0.88132094, -0.88301219, -0.88347333, -0.88294525,\n",
            "       -0.88260817, -0.88168362, -0.88101664, -0.8812078 , -0.88116713,\n",
            "       -0.88027035, -0.87961556, -0.87903852, -0.879375  , -0.88004921,\n",
            "       -0.87998288, -0.87955882, -0.87966346, -0.88003326, -0.87983294,\n",
            "       -0.88001599, -0.88138137, -0.88138534, -0.88199648, -0.88158627,\n",
            "       -0.88168092, -0.88142546, -0.88264106, -0.88210498, -0.8824904 ,\n",
            "       -0.88318421, -0.88317632, -0.8830846 , -0.88292246, -0.88242611,\n",
            "       -0.88188506, -0.88226446, -0.88209488, -0.88111388, -0.88091189,\n",
            "       -0.88086934, -0.87778628, -0.87794224, -0.87920695, -0.88040368]), array([-0.87773777, -0.87937373, -0.87859515, -0.8791516 , -0.87896777,\n",
            "       -0.87711135, -0.87780593, -0.8784478 , -0.87884233, -0.87911303,\n",
            "       -0.88034584, -0.88044043, -0.87980705, -0.87999077, -0.88046223,\n",
            "       -0.88132094, -0.88301219, -0.88347333, -0.88294525, -0.88260817,\n",
            "       -0.88168362, -0.88101664, -0.8812078 , -0.88116713, -0.88027035,\n",
            "       -0.87961556, -0.87903852, -0.879375  , -0.88004921, -0.87998288,\n",
            "       -0.87955882, -0.87966346, -0.88003326, -0.87983294, -0.88001599,\n",
            "       -0.88138137, -0.88138534, -0.88199648, -0.88158627, -0.88168092,\n",
            "       -0.88142546, -0.88264106, -0.88210498, -0.8824904 , -0.88318421,\n",
            "       -0.88317632, -0.8830846 , -0.88292246, -0.88242611, -0.88188506,\n",
            "       -0.88226446, -0.88209488, -0.88111388, -0.88091189, -0.88086934,\n",
            "       -0.87778628, -0.87794224, -0.87920695, -0.88040368, -0.87975529])]\n",
            "[-0.879755289197, -0.879781447671555]\n",
            "\n"
          ]
        }
      ],
      "source": [
        "#create the scaled training dataset\n",
        "train_data = scaled_data[0: training_data_len,:]\n",
        "train_data\n",
        "\n",
        "#splitting data into x_train and y_train\n",
        "x_train = []\n",
        "y_train = []\n",
        "\n",
        "for i in range (60, len(train_data)):\n",
        "    x_train.append(train_data[i-60: i, 0]) # from position 1 to 60 => index : 0 to 59\n",
        "    y_train.append(train_data[i, 0]) # position 61th => 60th index\n",
        "    if i<=61:\n",
        "        print(x_train)\n",
        "        print(y_train)\n",
        "        print()"
      ]
    },
    {
      "cell_type": "code",
      "execution_count": 17,
      "id": "d9571c48",
      "metadata": {
        "id": "d9571c48"
      },
      "outputs": [],
      "source": [
        "#converting x_train and y_train to arrays\n",
        "x_train, y_train = np.array(x_train), np.array(y_train)"
      ]
    },
    {
      "cell_type": "code",
      "execution_count": 18,
      "id": "2a32cec0",
      "metadata": {
        "colab": {
          "base_uri": "https://localhost:8080/"
        },
        "id": "2a32cec0",
        "outputId": "7748edac-afea-4bc3-ca5b-41b0b3315663"
      },
      "outputs": [
        {
          "data": {
            "text/plain": [
              "(2769, 60, 1)"
            ]
          },
          "execution_count": 18,
          "metadata": {},
          "output_type": "execute_result"
        }
      ],
      "source": [
        "#reshaping the x_train dataset\n",
        "x_train = np.reshape(x_train, (x_train.shape[0], x_train.shape[1], 1)) # 2551,60,1\n",
        "x_train.shape\n",
        "#Since the LSTM model except data to be a 3d matrix"
      ]
    },
    {
      "cell_type": "markdown",
      "id": "685642fe",
      "metadata": {},
      "source": [
        "Modelling and Tuning"
      ]
    },
    {
      "cell_type": "code",
      "execution_count": 19,
      "id": "269ba2fd",
      "metadata": {
        "id": "269ba2fd"
      },
      "outputs": [],
      "source": [
        "#building lstm model\n",
        "model = Sequential()\n",
        "model.add(LSTM(50, return_sequences=True, input_shape = (x_train.shape[1],1))) # no .of neurons = 50 , input = 60,1 # return true means more lstm layers expected\n",
        "model.add(LSTM(50, return_sequences=False)) # false means no more layers\n",
        "model.add(Dense(25)) # 25 neurons\n",
        "model.add(Dense(1)) # 1 neuron"
      ]
    },
    {
      "cell_type": "code",
      "execution_count": 20,
      "id": "e9e323b8",
      "metadata": {
        "id": "e9e323b8"
      },
      "outputs": [],
      "source": [
        "#compile the model\n",
        "model.compile(optimizer='adam', loss='mean_squared_error') # optimizer imporve upon the loss function\n",
        "#=> our adam optimizer will improve upon the mean_squared_error"
      ]
    },
    {
      "cell_type": "code",
      "execution_count": 21,
      "id": "47572291",
      "metadata": {
        "colab": {
          "base_uri": "https://localhost:8080/"
        },
        "id": "47572291",
        "outputId": "1a01da4a-d828-4a59-a510-040104635a89"
      },
      "outputs": [
        {
          "name": "stdout",
          "output_type": "stream",
          "text": [
            "Epoch 1/15\n",
            "139/139 [==============================] - 38s 80ms/step - loss: 0.0447\n",
            "Epoch 2/15\n",
            "139/139 [==============================] - 11s 80ms/step - loss: 0.0088\n",
            "Epoch 3/15\n",
            "139/139 [==============================] - 27s 195ms/step - loss: 0.0069\n",
            "Epoch 4/15\n",
            "139/139 [==============================] - 11s 80ms/step - loss: 0.0064\n",
            "Epoch 5/15\n",
            "139/139 [==============================] - 11s 76ms/step - loss: 0.0062\n",
            "Epoch 6/15\n",
            "139/139 [==============================] - 11s 79ms/step - loss: 0.0051\n",
            "Epoch 7/15\n",
            "139/139 [==============================] - 11s 77ms/step - loss: 0.0041\n",
            "Epoch 8/15\n",
            "139/139 [==============================] - 13s 90ms/step - loss: 0.0042\n",
            "Epoch 9/15\n",
            "139/139 [==============================] - 12s 84ms/step - loss: 0.0036\n",
            "Epoch 10/15\n",
            "139/139 [==============================] - 11s 82ms/step - loss: 0.0039\n",
            "Epoch 11/15\n",
            "139/139 [==============================] - 11s 78ms/step - loss: 0.0032\n",
            "Epoch 12/15\n",
            "139/139 [==============================] - 10s 69ms/step - loss: 0.0031\n",
            "Epoch 13/15\n",
            " 77/139 [===============>..............] - ETA: 4s - loss: 0.0038"
          ]
        }
      ],
      "source": [
        "#train the model\n",
        "np.random.seed(25)\n",
        "model.fit(x_train, y_train, batch_size=20, epochs=15) # epoch => no of iteration , # bathc_size : no of train dataset"
      ]
    },
    {
      "cell_type": "markdown",
      "id": "0aa79c8e",
      "metadata": {},
      "source": [
        "Splitting data into test datasets"
      ]
    },
    {
      "cell_type": "code",
      "execution_count": 83,
      "id": "8bc2856c",
      "metadata": {
        "id": "8bc2856c"
      },
      "outputs": [],
      "source": [
        "#create the testing dataset\n",
        "#create new array containing test values\n",
        "test_data = scaled_data[training_data_len-60:,:]\n",
        "#create dataset x_test and y_test\n",
        "x_test = []\n",
        "y_test = dataset[training_data_len:,:]\n",
        "for i in range(60, len(test_data)):\n",
        "    x_test.append(test_data[i-60:i,0])\n"
      ]
    },
    {
      "cell_type": "code",
      "execution_count": 84,
      "id": "791f0ab4",
      "metadata": {
        "id": "791f0ab4"
      },
      "outputs": [],
      "source": [
        "#convert data into numpy array\n",
        "x_test = np.array(x_test)"
      ]
    },
    {
      "cell_type": "code",
      "execution_count": 85,
      "id": "6be37703",
      "metadata": {
        "id": "6be37703"
      },
      "outputs": [],
      "source": [
        "#reshape data\n",
        "x_test = np.reshape(x_test, (x_test.shape[0], x_test.shape[1], 1))"
      ]
    },
    {
      "cell_type": "code",
      "execution_count": 86,
      "id": "85020ba7",
      "metadata": {
        "colab": {
          "base_uri": "https://localhost:8080/"
        },
        "id": "85020ba7",
        "outputId": "da475dea-4874-4811-ac2f-ffdee40eedd8"
      },
      "outputs": [
        {
          "data": {
            "text/plain": [
              "(652, 60, 1)"
            ]
          },
          "execution_count": 86,
          "metadata": {},
          "output_type": "execute_result"
        }
      ],
      "source": [
        "x_test.shape"
      ]
    },
    {
      "cell_type": "markdown",
      "id": "c73fb4b7",
      "metadata": {},
      "source": [
        "Making Predicitons"
      ]
    },
    {
      "cell_type": "code",
      "execution_count": 87,
      "id": "8508f51f",
      "metadata": {
        "colab": {
          "base_uri": "https://localhost:8080/"
        },
        "id": "8508f51f",
        "outputId": "ef29ecd0-2e6a-4497-8730-b9d5177fc63f"
      },
      "outputs": [
        {
          "name": "stdout",
          "output_type": "stream",
          "text": [
            "21/21 [==============================] - 1s 16ms/step\n"
          ]
        }
      ],
      "source": [
        "#get the models predicted price values\n",
        "prediction = model.predict(x_test)\n",
        "prediction = scaler.inverse_transform(prediction) # kind of unscaling"
      ]
    },
    {
      "cell_type": "markdown",
      "id": "b693e778",
      "metadata": {},
      "source": [
        "Evaluation \n"
      ]
    },
    {
      "cell_type": "markdown",
      "id": "59623eec",
      "metadata": {},
      "source": [
        "> using root mean squared error"
      ]
    },
    {
      "cell_type": "code",
      "execution_count": 88,
      "id": "99c8e912",
      "metadata": {
        "colab": {
          "base_uri": "https://localhost:8080/"
        },
        "id": "99c8e912",
        "outputId": "77258edd-46ee-494f-8574-b65b0ee048bd"
      },
      "outputs": [
        {
          "data": {
            "text/plain": [
              "129.67779129121934"
            ]
          },
          "execution_count": 88,
          "metadata": {},
          "output_type": "execute_result"
        }
      ],
      "source": [
        "# get the rmse [ more lower more better ]\n",
        "rmse = np.sqrt(np.mean(prediction-y_test)**2)\n",
        "rmse"
      ]
    },
    {
      "cell_type": "markdown",
      "id": "081d4b9f",
      "metadata": {},
      "source": [
        "> using mean absolute percentage error"
      ]
    },
    {
      "cell_type": "code",
      "execution_count": 89,
      "id": "h7n6hYwrnzrx",
      "metadata": {
        "colab": {
          "base_uri": "https://localhost:8080/"
        },
        "id": "h7n6hYwrnzrx",
        "outputId": "d26e1a53-f609-45a3-ebae-320200c21e0f"
      },
      "outputs": [
        {
          "data": {
            "text/plain": [
              "2.3662655677957685"
            ]
          },
          "execution_count": 89,
          "metadata": {},
          "output_type": "execute_result"
        }
      ],
      "source": [
        "# get the mean absolute percentage error\n",
        "prediction, y_test = np.array(prediction), np.array(y_test)\n",
        "mape = np.mean(np.abs((y_test - prediction) / y_test)) * 100\n",
        "mape"
      ]
    },
    {
      "cell_type": "code",
      "execution_count": 90,
      "id": "3e801634",
      "metadata": {
        "colab": {
          "base_uri": "https://localhost:8080/",
          "height": 393
        },
        "id": "3e801634",
        "outputId": "9b4bada2-8b26-4560-af6c-2e140df6b1a9"
      },
      "outputs": [
        {
          "name": "stderr",
          "output_type": "stream",
          "text": [
            "C:\\Users\\ameer\\AppData\\Local\\Temp\\ipykernel_25500\\3453032648.py:4: SettingWithCopyWarning: \n",
            "A value is trying to be set on a copy of a slice from a DataFrame.\n",
            "Try using .loc[row_indexer,col_indexer] = value instead\n",
            "\n",
            "See the caveats in the documentation: https://pandas.pydata.org/pandas-docs/stable/user_guide/indexing.html#returning-a-view-versus-a-copy\n",
            "  valid['Predictions'] = prediction\n"
          ]
        },
        {
          "data": {
            "image/png": "[encoded data removed]",
            "text/plain": [
              "<Figure size 1200x300 with 1 Axes>"
            ]
          },
          "metadata": {},
          "output_type": "display_data"
        }
      ],
      "source": [
        "#plot the data\n",
        "train = data[:training_data_len]\n",
        "valid = data[training_data_len:]\n",
        "valid['Predictions'] = prediction\n",
        "#visualize data\n",
        "plt.figure(figsize = (12,3))\n",
        "plt.title(\"Model\")\n",
        "plt.xlabel('Date')\n",
        "plt.ylabel('Close Price in USD')\n",
        "plt.plot(train['Close'])\n",
        "plt.plot(valid[['Close','Predictions']])\n",
        "plt.legend(['Train','Val','Predictions'], loc = 'lower right')\n",
        "plt.show()"
      ]
    },
    {
      "cell_type": "code",
      "execution_count": 91,
      "id": "07ae86cb",
      "metadata": {
        "colab": {
          "base_uri": "https://localhost:8080/",
          "height": 455
        },
        "id": "07ae86cb",
        "outputId": "cfca5b70-d672-4649-f69c-5da8db073620"
      },
      "outputs": [
        {
          "data": {
            "text/html": [
              "<div>\n",
              "<style scoped>\n",
              "    .dataframe tbody tr th:only-of-type {\n",
              "        vertical-align: middle;\n",
              "    }\n",
              "\n",
              "    .dataframe tbody tr th {\n",
              "        vertical-align: top;\n",
              "    }\n",
              "\n",
              "    .dataframe thead th {\n",
              "        text-align: right;\n",
              "    }\n",
              "</style>\n",
              "<table border=\"1\" class=\"dataframe\">\n",
              "  <thead>\n",
              "    <tr style=\"text-align: right;\">\n",
              "      <th></th>\n",
              "      <th>Close</th>\n",
              "      <th>Predictions</th>\n",
              "    </tr>\n",
              "    <tr>\n",
              "      <th>Date</th>\n",
              "      <th></th>\n",
              "      <th></th>\n",
              "    </tr>\n",
              "  </thead>\n",
              "  <tbody>\n",
              "    <tr>\n",
              "      <th>2021-11-11</th>\n",
              "      <td>64949.960938</td>\n",
              "      <td>62590.902344</td>\n",
              "    </tr>\n",
              "    <tr>\n",
              "      <th>2021-11-12</th>\n",
              "      <td>64155.941406</td>\n",
              "      <td>62492.652344</td>\n",
              "    </tr>\n",
              "    <tr>\n",
              "      <th>2021-11-13</th>\n",
              "      <td>64469.527344</td>\n",
              "      <td>61903.335938</td>\n",
              "    </tr>\n",
              "    <tr>\n",
              "      <th>2021-11-14</th>\n",
              "      <td>65466.839844</td>\n",
              "      <td>62243.027344</td>\n",
              "    </tr>\n",
              "    <tr>\n",
              "      <th>2021-11-15</th>\n",
              "      <td>63557.871094</td>\n",
              "      <td>63243.726562</td>\n",
              "    </tr>\n",
              "    <tr>\n",
              "      <th>...</th>\n",
              "      <td>...</td>\n",
              "      <td>...</td>\n",
              "    </tr>\n",
              "    <tr>\n",
              "      <th>2023-08-20</th>\n",
              "      <td>26189.583984</td>\n",
              "      <td>25953.828125</td>\n",
              "    </tr>\n",
              "    <tr>\n",
              "      <th>2023-08-21</th>\n",
              "      <td>26124.140625</td>\n",
              "      <td>25920.439453</td>\n",
              "    </tr>\n",
              "    <tr>\n",
              "      <th>2023-08-22</th>\n",
              "      <td>26031.656250</td>\n",
              "      <td>25974.695312</td>\n",
              "    </tr>\n",
              "    <tr>\n",
              "      <th>2023-08-23</th>\n",
              "      <td>26431.640625</td>\n",
              "      <td>25994.804688</td>\n",
              "    </tr>\n",
              "    <tr>\n",
              "      <th>2023-08-24</th>\n",
              "      <td>26162.373047</td>\n",
              "      <td>26221.212891</td>\n",
              "    </tr>\n",
              "  </tbody>\n",
              "</table>\n",
              "<p>652 rows × 2 columns</p>\n",
              "</div>"
            ],
            "text/plain": [
              "                   Close   Predictions\n",
              "Date                                  \n",
              "2021-11-11  64949.960938  62590.902344\n",
              "2021-11-12  64155.941406  62492.652344\n",
              "2021-11-13  64469.527344  61903.335938\n",
              "2021-11-14  65466.839844  62243.027344\n",
              "2021-11-15  63557.871094  63243.726562\n",
              "...                  ...           ...\n",
              "2023-08-20  26189.583984  25953.828125\n",
              "2023-08-21  26124.140625  25920.439453\n",
              "2023-08-22  26031.656250  25974.695312\n",
              "2023-08-23  26431.640625  25994.804688\n",
              "2023-08-24  26162.373047  26221.212891\n",
              "\n",
              "[652 rows x 2 columns]"
            ]
          },
          "execution_count": 91,
          "metadata": {},
          "output_type": "execute_result"
        }
      ],
      "source": [
        "#show valid and predicted prices\n",
        "valid"
      ]
    },
    {
      "cell_type": "markdown",
      "id": "b1a2f377",
      "metadata": {},
      "source": [
        "Inputting Format"
      ]
    },
    {
      "cell_type": "code",
      "execution_count": 92,
      "id": "f7a12198",
      "metadata": {
        "colab": {
          "base_uri": "https://localhost:8080/"
        },
        "id": "f7a12198",
        "outputId": "de6a5eac-670f-4426-bc7e-3eeacfc3c841"
      },
      "outputs": [
        {
          "name": "stdout",
          "output_type": "stream",
          "text": [
            "[*********************100%%**********************]  1 of 1 completed\n",
            "1/1 [==============================] - 0s 23ms/step\n",
            "[[26221.21]]\n"
          ]
        }
      ],
      "source": [
        "#get the quote\n",
        "today = date.today()-timedelta(days = 3)\n",
        "btc_quote = pdr.get_data_yahoo('BTC-USD', start='2010-1-1', end = today)\n",
        "#create a new dataframe\n",
        "new_df = btc_quote.filter(['Close'])\n",
        "#get last 60 day closing value and convert to array\n",
        "last_60_days = new_df[-60:].values\n",
        "#scale data to values between 0 and 1\n",
        "last_60_daya_scled = scaler.transform(last_60_days)\n",
        "# last_60_daya_scled\n",
        "X_test = []\n",
        "# #append past 60 days to X_test\n",
        "X_test.append(last_60_daya_scled)\n",
        "# X_test\n",
        "# #Convert X_test dataset to numpy array\n",
        "X_test = np.array(X_test)\n",
        "# #reshape data\n",
        "X_test = np.reshape(X_test, (X_test.shape[0] ,X_test.shape[1],1))\n",
        "# #get predicted price\n",
        "pred_price = model.predict(X_test)\n",
        "pred_price = scaler.inverse_transform(pred_price)\n",
        "print(pred_price)"
      ]
    },
    {
      "cell_type": "code",
      "execution_count": 93,
      "id": "74765590",
      "metadata": {
        "colab": {
          "base_uri": "https://localhost:8080/"
        },
        "id": "74765590",
        "outputId": "5a56f7cd-a350-43e4-ac0b-c017e28e4f35"
      },
      "outputs": [
        {
          "name": "stdout",
          "output_type": "stream",
          "text": [
            "[*********************100%%**********************]  1 of 1 completed\n",
            "                    Open          High           Low         Close  \\\n",
            "Date                                                                 \n",
            "2014-09-17    465.864014    468.174011    452.421997    457.334015   \n",
            "2014-09-18    456.859985    456.859985    413.104004    424.440002   \n",
            "2014-09-19    424.102997    427.834991    384.532013    394.795990   \n",
            "2014-09-20    394.673004    423.295990    389.882996    408.903992   \n",
            "2014-09-21    408.084991    412.425995    393.181000    398.821014   \n",
            "...                  ...           ...           ...           ...   \n",
            "2023-08-20  26096.861328  26260.681641  26004.314453  26189.583984   \n",
            "2023-08-21  26188.691406  26220.201172  25846.087891  26124.140625   \n",
            "2023-08-22  26130.748047  26135.507812  25520.728516  26031.656250   \n",
            "2023-08-23  26040.474609  26786.898438  25804.998047  26431.640625   \n",
            "2023-08-24  26431.519531  26554.910156  25914.925781  26162.373047   \n",
            "\n",
            "               Adj Close       Volume  \n",
            "Date                                   \n",
            "2014-09-17    457.334015     21056800  \n",
            "2014-09-18    424.440002     34483200  \n",
            "2014-09-19    394.795990     37919700  \n",
            "2014-09-20    408.903992     36863600  \n",
            "2014-09-21    398.821014     26580100  \n",
            "...                  ...          ...  \n",
            "2023-08-20  26189.583984   9036580420  \n",
            "2023-08-21  26124.140625  13371557893  \n",
            "2023-08-22  26031.656250  14503820706  \n",
            "2023-08-23  26431.640625  16985265785  \n",
            "2023-08-24  26162.373047  12871532023  \n",
            "\n",
            "[3264 rows x 6 columns]\n"
          ]
        }
      ],
      "source": [
        "btc_quote_2 = pdr.get_data_yahoo('BTC-USD', start='2010-1-1', end = td)\n",
        "print(btc_quote_2)"
      ]
    },
    {
      "cell_type": "markdown",
      "id": "b3141684",
      "metadata": {},
      "source": [
        "Saving the model"
      ]
    },
    {
      "cell_type": "code",
      "execution_count": 103,
      "id": "fb8dd463",
      "metadata": {
        "colab": {
          "base_uri": "https://localhost:8080/"
        },
        "id": "fb8dd463",
        "outputId": "53dc9078-fb68-4b70-edaa-a150cfb3aba5"
      },
      "outputs": [],
      "source": [
        "#Saving the model\n",
        "model.save(\"model\")"
      ]
    }
  ],
  "metadata": {
    "accelerator": "TPU",
    "colab": {
      "provenance": []
    },
    "kernelspec": {
      "display_name": "Python 3",
      "name": "python3"
    },
    "language_info": {
      "codemirror_mode": {
        "name": "ipython",
        "version": 3
      },
      "file_extension": ".py",
      "mimetype": "text/x-python",
      "name": "python",
      "nbconvert_exporter": "python",
      "pygments_lexer": "ipython3",
      "version": "3.10.6"
    }
  },
  "nbformat": 4,
  "nbformat_minor": 5
}
